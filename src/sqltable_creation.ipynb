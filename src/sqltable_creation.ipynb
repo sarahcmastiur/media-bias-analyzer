{
 "cells": [
  {
   "cell_type": "markdown",
   "id": "5c79ffa1-cb24-4870-a116-0c63ef03c416",
   "metadata": {},
   "source": [
    "### 1. Setup"
   ]
  },
  {
   "cell_type": "code",
   "execution_count": 18,
   "id": "1d635816-5532-45e9-ba31-743958306c24",
   "metadata": {},
   "outputs": [
    {
     "name": "stdout",
     "output_type": "stream",
     "text": [
      "Connecting to the local PostgreSQL database...\n"
     ]
    }
   ],
   "source": [
    "import os\n",
    "import json\n",
    "import psycopg\n",
    "\n",
    "json_base_path = \"Final_output_files/Json_files\"\n",
    "\n",
    "print('Connecting to the local PostgreSQL database...')\n",
    "conn = psycopg.connect(\n",
    "    host=\"localhost\",\n",
    "    port='5432',\n",
    "    dbname=\"my_db\",\n",
    "    user=\"postgres\",\n",
    "    password=\"123\")\n",
    "\n",
    "cur = conn.cursor()"
   ]
  },
  {
   "cell_type": "markdown",
   "id": "950e6a14-f93e-4097-9700-482445f2afc9",
   "metadata": {},
   "source": [
    "### 2. Creating 3 tables: categories, subtopics, articles"
   ]
  },
  {
   "cell_type": "code",
   "execution_count": 19,
   "id": "8f95e15e-55c5-4575-b938-6e1740414496",
   "metadata": {},
   "outputs": [
    {
     "data": {
      "text/plain": [
       "<psycopg.Cursor [COMMAND_OK] [INTRANS] (host=localhost user=postgres database=my_db) at 0x121825610>"
      ]
     },
     "execution_count": 19,
     "metadata": {},
     "output_type": "execute_result"
    }
   ],
   "source": [
    "cur.execute(\"\"\"\n",
    "CREATE TABLE IF NOT EXISTS categories (\n",
    "    id INTEGER PRIMARY KEY,\n",
    "    name TEXT UNIQUE\n",
    ")\n",
    "\"\"\")\n",
    "\n",
    "cur.execute(\"\"\"\n",
    "CREATE TABLE IF NOT EXISTS subtopics (\n",
    "    id INTEGER PRIMARY KEY,\n",
    "    name TEXT,\n",
    "    category_id INTEGER,\n",
    "    FOREIGN KEY (category_id) REFERENCES categories(id)\n",
    ")\n",
    "\"\"\")\n",
    "\n",
    "cur.execute(\"\"\"\n",
    "CREATE TABLE IF NOT EXISTS articles (\n",
    "    id SERIAL PRIMARY KEY,\n",
    "    title TEXT,\n",
    "    abstract TEXT,\n",
    "    url TEXT,\n",
    "    pub_date TEXT,\n",
    "    subtopic_id INTEGER,\n",
    "    FOREIGN KEY (subtopic_id) REFERENCES subtopics(id)\n",
    ")\n",
    "\"\"\")"
   ]
  },
  {
   "cell_type": "markdown",
   "id": "5c5873c3-0dff-4808-99b5-1cedad51c882",
   "metadata": {},
   "source": [
    "### 3. Insert static category and subtopic data"
   ]
  },
  {
   "cell_type": "code",
   "execution_count": 20,
   "id": "76b2b28a-a4e0-4ced-b592-a33aa100a718",
   "metadata": {},
   "outputs": [],
   "source": [
    "categories = {\n",
    "    1: \"education\",\n",
    "    2: \"politics\",\n",
    "    3: \"environment\"\n",
    "}\n",
    "\n",
    "subtopics = {\n",
    "    1: (\"online learning\", 1),\n",
    "    2: (\"higher ed\", 1),\n",
    "    3: (\"climate policy\", 3)\n",
    "}\n",
    "\n",
    "for cat_id, name in categories.items():\n",
    "    cur.execute(\"\"\"\n",
    "        INSERT INTO categories (id, name)\n",
    "        VALUES (%s, %s)\n",
    "        ON CONFLICT (id) DO NOTHING\n",
    "    \"\"\", (cat_id, name))\n",
    "\n",
    "for sub_id, (name, cat_id) in subtopics.items():\n",
    "    cur.execute(\"\"\"\n",
    "        INSERT INTO subtopics (id, name, category_id)\n",
    "        VALUES (%s, %s, %s)\n",
    "        ON CONFLICT (id) DO NOTHING\n",
    "    \"\"\", (sub_id, name, cat_id))"
   ]
  },
  {
   "cell_type": "markdown",
   "id": "3970cbbc-135f-4365-8f11-79fec1c6c080",
   "metadata": {},
   "source": [
    "### 4. Load and insert articles"
   ]
  },
  {
   "cell_type": "code",
   "execution_count": 21,
   "id": "83dad1fb-28a7-42bf-b1ed-5f5670d4503a",
   "metadata": {},
   "outputs": [],
   "source": [
    "def extract_fields(article):\n",
    "    title = article.get(\"headline\", {}).get(\"main\", \"\")\n",
    "    abstract = article.get(\"abstract\", \"\")\n",
    "    url = article.get(\"web_url\", \"\")\n",
    "    pub_date = article.get(\"pub_date\", \"\")\n",
    "    return title, abstract, url, pub_date\n",
    "\n",
    "topic_subtopic_map = {\n",
    "    \"education\": 2,\n",
    "    \"remote learning\": 1,\n",
    "    \"online learning\": 1,\n",
    "    \"higher ed\": 2,\n",
    "    \"climate change\": 3,\n",
    "    \"climate policy\": 3,\n",
    "    \"carbon emission\": 3,\n",
    "    \"sustainability\": 3\n",
    "}\n",
    "\n",
    "for source in [\"Guardian\", \"NewsAPI\", \"Nytimes\"]:\n",
    "    for category_id, category_name in categories.items():\n",
    "        folder = os.path.join(json_base_path, source, category_name.capitalize())\n",
    "        file_path = os.path.join(folder, f\"{category_name}.json\")\n",
    "\n",
    "        if not os.path.exists(file_path):\n",
    "            continue\n",
    "\n",
    "        with open(file_path, \"r\", encoding=\"utf-8\") as f:\n",
    "            data = json.load(f)\n",
    "\n",
    "        for article in data:\n",
    "            title, abstract, url, pub_date = extract_fields(article)\n",
    "            issue = article.get(\"issue\", \"\").lower()\n",
    "            subtopic_id = topic_subtopic_map.get(issue)\n",
    "\n",
    "            if not subtopic_id:\n",
    "                continue\n",
    "\n",
    "            cur.execute(\"\"\"\n",
    "                INSERT INTO articles (title, abstract, url, pub_date, subtopic_id)\n",
    "                VALUES (%s, %s, %s, %s, %s)\n",
    "            \"\"\", (title, abstract, url, pub_date, subtopic_id))\n",
    "\n",
    "conn.commit()"
   ]
  },
  {
   "cell_type": "markdown",
   "id": "8a078bc7-cb2e-42d4-ba82-9b0c39f251a4",
   "metadata": {},
   "source": [
    "### Query commands"
   ]
  },
  {
   "cell_type": "code",
   "execution_count": 23,
   "id": "4cfef600-d298-4afd-850c-dc6028d86e2a",
   "metadata": {},
   "outputs": [
    {
     "name": "stdout",
     "output_type": "stream",
     "text": [
      "📋 Categories Table:\n",
      "(1, 'education')\n",
      "(2, 'politics')\n",
      "(3, 'environment')\n"
     ]
    }
   ],
   "source": [
    "# Sample: view the categories table\n",
    "\n",
    "cur.execute(\"SELECT * FROM categories;\")\n",
    "rows = cur.fetchall()\n",
    "\n",
    "# === Print results ===\n",
    "print(\"📋 Categories Table:\")\n",
    "for row in rows:\n",
    "    print(row)"
   ]
  },
  {
   "cell_type": "code",
   "execution_count": 24,
   "id": "b7db6807-d6fb-4bed-828f-7ac1a76d116a",
   "metadata": {},
   "outputs": [
    {
     "name": "stdout",
     "output_type": "stream",
     "text": [
      "🎯 Top 5 Stories:\n",
      "1. The Last 2 Months — and Next 2 Years — of U.S. Politics (6 articles)\n",
      "2. Read the Letter (6 articles)\n",
      "3. They Want More Babies. Now They Have Friends in the White House. (6 articles)\n",
      "4. Pension Funds Push Forward on Climate Goals Despite Backlash (6 articles)\n",
      "5. U.S. Faces ‘Significant Risks’ From Debt, Analysts Say, as Trump Pursues Tax Agenda (6 articles)\n",
      "\n",
      "📊 Total number of articles among top 5 stories: 2056\n"
     ]
    }
   ],
   "source": [
    "# Research question: What are the top 5 stories and total number of articles associated with Event?\n",
    "\n",
    "top5_query = \"\"\"\n",
    "    SELECT title, COUNT(*) AS article_count\n",
    "    FROM articles\n",
    "    WHERE title IS NOT NULL AND TRIM(title) <> ''\n",
    "    GROUP BY title\n",
    "    ORDER BY article_count DESC\n",
    "    LIMIT 5;\n",
    "\"\"\"\n",
    "cur.execute(top5_query)\n",
    "top_5_stories = cur.fetchall()\n",
    "\n",
    "print(\"🎯 Top 5 Stories:\")\n",
    "for i, (title, count) in enumerate(top_5_stories, 1):\n",
    "    print(f\"{i}. {title} ({count} articles)\")\n",
    "\n",
    "# === STEP 2: Total Articles Among Top 5 Stories ===\n",
    "total_query = \"\"\"\n",
    "    SELECT SUM(article_count) AS total_articles\n",
    "    FROM (\n",
    "        SELECT COUNT(*) AS article_count\n",
    "        FROM articles\n",
    "        GROUP BY title\n",
    "        ORDER BY article_count DESC\n",
    "        LIMIT 5\n",
    "    ) AS top_stories;\n",
    "\"\"\"\n",
    "cur.execute(total_query)\n",
    "total_articles = cur.fetchone()[0]\n",
    "\n",
    "print(f\"\\n📊 Total number of articles among top 5 stories: {total_articles}\")"
   ]
  },
  {
   "cell_type": "code",
   "execution_count": 25,
   "id": "906db7c3-590d-4e61-8a20-f9a4da0d493f",
   "metadata": {},
   "outputs": [],
   "source": [
    "# close the communication with the PostgreSQL\n",
    "cur.close()\n",
    "conn.close()"
   ]
  },
  {
   "cell_type": "code",
   "execution_count": null,
   "id": "a2aee11a-1538-4400-9c00-754515ff1c2e",
   "metadata": {},
   "outputs": [],
   "source": []
  }
 ],
 "metadata": {
  "kernelspec": {
   "display_name": "Python 3 (ipykernel)",
   "language": "python",
   "name": "python3"
  },
  "language_info": {
   "codemirror_mode": {
    "name": "ipython",
    "version": 3
   },
   "file_extension": ".py",
   "mimetype": "text/x-python",
   "name": "python",
   "nbconvert_exporter": "python",
   "pygments_lexer": "ipython3",
   "version": "3.12.7"
  }
 },
 "nbformat": 4,
 "nbformat_minor": 5
}
